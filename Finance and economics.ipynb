{
 "cells": [
  {
   "cell_type": "code",
   "execution_count": 1,
   "id": "8561372b",
   "metadata": {},
   "outputs": [],
   "source": [
    "import numpy as np\n",
    "import pandas as pd\n",
    "import matplotlib.pyplot as plt\n",
    "import statsmodels.api as sm\n",
    "from sklearn.linear_model import LinearRegression\n",
    "import seaborn as sns\n",
    "sns.set()"
   ]
  },
  {
   "cell_type": "code",
   "execution_count": 2,
   "id": "95cd6d93",
   "metadata": {},
   "outputs": [],
   "source": [
    "SP500 = pd.read_csv('SP500.csv')\n",
    "NASDAQ100 = pd.read_csv('NASDAQ100.csv')"
   ]
  },
  {
   "cell_type": "code",
   "execution_count": 3,
   "id": "1cf3a7a4",
   "metadata": {},
   "outputs": [
    {
     "data": {
      "text/html": [
       "<div>\n",
       "<style scoped>\n",
       "    .dataframe tbody tr th:only-of-type {\n",
       "        vertical-align: middle;\n",
       "    }\n",
       "\n",
       "    .dataframe tbody tr th {\n",
       "        vertical-align: top;\n",
       "    }\n",
       "\n",
       "    .dataframe thead th {\n",
       "        text-align: right;\n",
       "    }\n",
       "</style>\n",
       "<table border=\"1\" class=\"dataframe\">\n",
       "  <thead>\n",
       "    <tr style=\"text-align: right;\">\n",
       "      <th></th>\n",
       "      <th>DATE</th>\n",
       "      <th>SP500</th>\n",
       "    </tr>\n",
       "  </thead>\n",
       "  <tbody>\n",
       "    <tr>\n",
       "      <th>0</th>\n",
       "      <td>2012-11-01</td>\n",
       "      <td>1394.512381</td>\n",
       "    </tr>\n",
       "    <tr>\n",
       "      <th>1</th>\n",
       "      <td>2012-12-01</td>\n",
       "      <td>1422.285500</td>\n",
       "    </tr>\n",
       "    <tr>\n",
       "      <th>2</th>\n",
       "      <td>2013-01-01</td>\n",
       "      <td>1480.395238</td>\n",
       "    </tr>\n",
       "    <tr>\n",
       "      <th>3</th>\n",
       "      <td>2013-02-01</td>\n",
       "      <td>1512.311579</td>\n",
       "    </tr>\n",
       "    <tr>\n",
       "      <th>4</th>\n",
       "      <td>2013-03-01</td>\n",
       "      <td>1550.829000</td>\n",
       "    </tr>\n",
       "    <tr>\n",
       "      <th>...</th>\n",
       "      <td>...</td>\n",
       "      <td>...</td>\n",
       "    </tr>\n",
       "    <tr>\n",
       "      <th>114</th>\n",
       "      <td>2022-05-01</td>\n",
       "      <td>4040.360000</td>\n",
       "    </tr>\n",
       "    <tr>\n",
       "      <th>115</th>\n",
       "      <td>2022-06-01</td>\n",
       "      <td>3898.946667</td>\n",
       "    </tr>\n",
       "    <tr>\n",
       "      <th>116</th>\n",
       "      <td>2022-07-01</td>\n",
       "      <td>3911.729500</td>\n",
       "    </tr>\n",
       "    <tr>\n",
       "      <th>117</th>\n",
       "      <td>2022-08-01</td>\n",
       "      <td>4158.563043</td>\n",
       "    </tr>\n",
       "    <tr>\n",
       "      <th>118</th>\n",
       "      <td>2022-09-01</td>\n",
       "      <td>3850.520476</td>\n",
       "    </tr>\n",
       "  </tbody>\n",
       "</table>\n",
       "<p>119 rows × 2 columns</p>\n",
       "</div>"
      ],
      "text/plain": [
       "           DATE        SP500\n",
       "0    2012-11-01  1394.512381\n",
       "1    2012-12-01  1422.285500\n",
       "2    2013-01-01  1480.395238\n",
       "3    2013-02-01  1512.311579\n",
       "4    2013-03-01  1550.829000\n",
       "..          ...          ...\n",
       "114  2022-05-01  4040.360000\n",
       "115  2022-06-01  3898.946667\n",
       "116  2022-07-01  3911.729500\n",
       "117  2022-08-01  4158.563043\n",
       "118  2022-09-01  3850.520476\n",
       "\n",
       "[119 rows x 2 columns]"
      ]
     },
     "execution_count": 3,
     "metadata": {},
     "output_type": "execute_result"
    }
   ],
   "source": [
    "SP500"
   ]
  },
  {
   "cell_type": "code",
   "execution_count": 4,
   "id": "35072ccd",
   "metadata": {},
   "outputs": [
    {
     "data": {
      "text/html": [
       "<div>\n",
       "<style scoped>\n",
       "    .dataframe tbody tr th:only-of-type {\n",
       "        vertical-align: middle;\n",
       "    }\n",
       "\n",
       "    .dataframe tbody tr th {\n",
       "        vertical-align: top;\n",
       "    }\n",
       "\n",
       "    .dataframe thead th {\n",
       "        text-align: right;\n",
       "    }\n",
       "</style>\n",
       "<table border=\"1\" class=\"dataframe\">\n",
       "  <thead>\n",
       "    <tr style=\"text-align: right;\">\n",
       "      <th></th>\n",
       "      <th>DATE</th>\n",
       "      <th>NASDAQ100</th>\n",
       "    </tr>\n",
       "  </thead>\n",
       "  <tbody>\n",
       "    <tr>\n",
       "      <th>0</th>\n",
       "      <td>2012-11-01</td>\n",
       "      <td>2616.617619</td>\n",
       "    </tr>\n",
       "    <tr>\n",
       "      <th>1</th>\n",
       "      <td>2012-12-01</td>\n",
       "      <td>2658.754500</td>\n",
       "    </tr>\n",
       "    <tr>\n",
       "      <th>2</th>\n",
       "      <td>2013-01-01</td>\n",
       "      <td>2736.900952</td>\n",
       "    </tr>\n",
       "    <tr>\n",
       "      <th>3</th>\n",
       "      <td>2013-02-01</td>\n",
       "      <td>2748.191579</td>\n",
       "    </tr>\n",
       "    <tr>\n",
       "      <th>4</th>\n",
       "      <td>2013-03-01</td>\n",
       "      <td>2795.325500</td>\n",
       "    </tr>\n",
       "    <tr>\n",
       "      <th>...</th>\n",
       "      <td>...</td>\n",
       "      <td>...</td>\n",
       "    </tr>\n",
       "    <tr>\n",
       "      <th>114</th>\n",
       "      <td>2022-05-01</td>\n",
       "      <td>12375.008571</td>\n",
       "    </tr>\n",
       "    <tr>\n",
       "      <th>115</th>\n",
       "      <td>2022-06-01</td>\n",
       "      <td>11918.650000</td>\n",
       "    </tr>\n",
       "    <tr>\n",
       "      <th>116</th>\n",
       "      <td>2022-07-01</td>\n",
       "      <td>12140.191500</td>\n",
       "    </tr>\n",
       "    <tr>\n",
       "      <th>117</th>\n",
       "      <td>2022-08-01</td>\n",
       "      <td>13090.348261</td>\n",
       "    </tr>\n",
       "    <tr>\n",
       "      <th>118</th>\n",
       "      <td>2022-09-01</td>\n",
       "      <td>11841.001429</td>\n",
       "    </tr>\n",
       "  </tbody>\n",
       "</table>\n",
       "<p>119 rows × 2 columns</p>\n",
       "</div>"
      ],
      "text/plain": [
       "           DATE     NASDAQ100\n",
       "0    2012-11-01   2616.617619\n",
       "1    2012-12-01   2658.754500\n",
       "2    2013-01-01   2736.900952\n",
       "3    2013-02-01   2748.191579\n",
       "4    2013-03-01   2795.325500\n",
       "..          ...           ...\n",
       "114  2022-05-01  12375.008571\n",
       "115  2022-06-01  11918.650000\n",
       "116  2022-07-01  12140.191500\n",
       "117  2022-08-01  13090.348261\n",
       "118  2022-09-01  11841.001429\n",
       "\n",
       "[119 rows x 2 columns]"
      ]
     },
     "execution_count": 4,
     "metadata": {},
     "output_type": "execute_result"
    }
   ],
   "source": [
    "NASDAQ100"
   ]
  },
  {
   "cell_type": "code",
   "execution_count": 5,
   "id": "da8808d6",
   "metadata": {},
   "outputs": [],
   "source": [
    "X = SP500['SP500']\n",
    "Y = NASDAQ100['NASDAQ100']"
   ]
  },
  {
   "cell_type": "code",
   "execution_count": 6,
   "id": "dcfa5b5b",
   "metadata": {},
   "outputs": [],
   "source": [
    "X = X.to_numpy().reshape(-1, 1)\n",
    "Y = Y.to_numpy().reshape(-1, 1)"
   ]
  },
  {
   "cell_type": "code",
   "execution_count": 7,
   "id": "2058f642",
   "metadata": {
    "scrolled": false
   },
   "outputs": [
    {
     "data": {
      "text/plain": [
       "array([[ 0.01610357],\n",
       "       [ 0.02939213],\n",
       "       [ 0.00412533],\n",
       "       [ 0.01715089],\n",
       "       [ 0.00831305],\n",
       "       [ 0.05769768],\n",
       "       [-0.01471938],\n",
       "       [ 0.03259042],\n",
       "       [ 0.02388067],\n",
       "       [ 0.02642568],\n",
       "       [ 0.03275961],\n",
       "       [ 0.03265366],\n",
       "       [ 0.03362752],\n",
       "       [ 0.01255892],\n",
       "       [ 0.01603686],\n",
       "       [ 0.01277033],\n",
       "       [-0.02913375],\n",
       "       [ 0.01875342],\n",
       "       [ 0.04722299],\n",
       "       [ 0.03550248],\n",
       "       [ 0.01341216],\n",
       "       [ 0.02284071],\n",
       "       [-0.02595827],\n",
       "       [ 0.06468539],\n",
       "       [ 0.00940016],\n",
       "       [-0.01833659],\n",
       "       [ 0.03843569],\n",
       "       [ 0.0105339 ],\n",
       "       [ 0.00677772],\n",
       "       [ 0.0130077 ],\n",
       "       [ 0.00118326],\n",
       "       [ 0.01040427],\n",
       "       [-0.02340459],\n",
       "       [-0.03634285],\n",
       "       [ 0.04314827],\n",
       "       [ 0.04672858],\n",
       "       [-0.00541718],\n",
       "       [-0.07966463],\n",
       "       [-0.03046462],\n",
       "       [ 0.05994477],\n",
       "       [ 0.02618917],\n",
       "       [-0.02500535],\n",
       "       [ 0.01085793],\n",
       "       [ 0.0374012 ],\n",
       "       [ 0.042058  ],\n",
       "       [ 0.00576839],\n",
       "       [ 0.00664833],\n",
       "       [-0.01104818],\n",
       "       [ 0.01973131],\n",
       "       [ 0.03488712],\n",
       "       [ 0.04042633],\n",
       "       [ 0.02375777],\n",
       "       [ 0.01144319],\n",
       "       [ 0.04396274],\n",
       "       [ 0.01399659],\n",
       "       [ 0.00852265],\n",
       "       [ 0.01002456],\n",
       "       [ 0.01370647],\n",
       "       [ 0.0224277 ],\n",
       "       [ 0.03936984],\n",
       "       [ 0.01102679],\n",
       "       [ 0.06134665],\n",
       "       [-0.01267091],\n",
       "       [ 0.02095055],\n",
       "       [-0.0347692 ],\n",
       "       [ 0.04072065],\n",
       "       [ 0.04125546],\n",
       "       [ 0.01913833],\n",
       "       [ 0.02144351],\n",
       "       [ 0.01004812],\n",
       "       [-0.04734331],\n",
       "       [-0.04413965],\n",
       "       [-0.05208574],\n",
       "       [ 0.01875048],\n",
       "       [ 0.06061048],\n",
       "       [ 0.03320373],\n",
       "       [ 0.05620605],\n",
       "       [-0.02361296],\n",
       "       [ 0.00323011],\n",
       "       [ 0.0523216 ],\n",
       "       [-0.0352091 ],\n",
       "       [ 0.02548692],\n",
       "       [ 0.00585379],\n",
       "       [ 0.0540297 ],\n",
       "       [ 0.02933294],\n",
       "       [ 0.0590792 ],\n",
       "       [ 0.029488  ],\n",
       "       [-0.15724922],\n",
       "       [ 0.07677363],\n",
       "       [ 0.09138482],\n",
       "       [ 0.07501062],\n",
       "       [ 0.07673705],\n",
       "       [ 0.0701975 ],\n",
       "       [-0.00663244],\n",
       "       [ 0.02419385],\n",
       "       [ 0.02484298],\n",
       "       [ 0.06127841],\n",
       "       [ 0.0337497 ],\n",
       "       [ 0.03262595],\n",
       "       [-0.04257067],\n",
       "       [ 0.07225856],\n",
       "       [-0.02642632],\n",
       "       [ 0.04438207],\n",
       "       [ 0.05582675],\n",
       "       [ 0.02177422],\n",
       "       [ 0.00936721],\n",
       "       [-0.01119195],\n",
       "       [ 0.0722068 ],\n",
       "       [-0.0062685 ],\n",
       "       [-0.05752581],\n",
       "       [-0.05119325],\n",
       "       [-0.01922573],\n",
       "       [-0.0131855 ],\n",
       "       [-0.11383753],\n",
       "       [-0.03687743],\n",
       "       [ 0.0185878 ],\n",
       "       [ 0.07826538],\n",
       "       [-0.09544031]])"
      ]
     },
     "execution_count": 7,
     "metadata": {},
     "output_type": "execute_result"
    }
   ],
   "source": [
    "X_return = (X - np.roll(X, 1)) / np.roll(X, 1)\n",
    "X_return = np.delete(X_return, 0)\n",
    "X_return.reshape(-1, 1)\n",
    "Y_return = (Y - np.roll(Y, 1)) / np.roll(Y, 1)\n",
    "Y_return = np.delete(Y_return, 0)\n",
    "Y_return.reshape(-1, 1)"
   ]
  },
  {
   "cell_type": "code",
   "execution_count": 8,
   "id": "b51442a2",
   "metadata": {},
   "outputs": [],
   "source": [
    "n = len(X_return)\n",
    "X_mean = sum(X_return) / n\n",
    "Y_mean = sum(Y_return) / n"
   ]
  },
  {
   "cell_type": "code",
   "execution_count": 9,
   "id": "c0ea48be",
   "metadata": {},
   "outputs": [
    {
     "data": {
      "text/plain": [
       "0.0012187606630784293"
      ]
     },
     "execution_count": 9,
     "metadata": {},
     "output_type": "execute_result"
    }
   ],
   "source": [
    "cov_X_Y = sum((X_return - X_mean)*(Y_return - Y_mean)) / (n - 1)\n",
    "cov_X_Y"
   ]
  },
  {
   "cell_type": "code",
   "execution_count": 10,
   "id": "8b7f0d44",
   "metadata": {},
   "outputs": [
    {
     "data": {
      "text/plain": [
       "0.00160753170635514"
      ]
     },
     "execution_count": 10,
     "metadata": {},
     "output_type": "execute_result"
    }
   ],
   "source": [
    "Y_variance = sum((Y_return - Y_mean) ** 2) / (n - 1)\n",
    "Y_variance"
   ]
  },
  {
   "cell_type": "code",
   "execution_count": 11,
   "id": "b8be97a5",
   "metadata": {},
   "outputs": [
    {
     "data": {
      "text/plain": [
       "0.04009403579530427"
      ]
     },
     "execution_count": 11,
     "metadata": {},
     "output_type": "execute_result"
    }
   ],
   "source": [
    "Y_std = np.sqrt(Y_variance)\n",
    "Y_std"
   ]
  },
  {
   "cell_type": "code",
   "execution_count": 12,
   "id": "36ac8771",
   "metadata": {},
   "outputs": [
    {
     "data": {
      "text/plain": [
       "0.03324945017389048"
      ]
     },
     "execution_count": 12,
     "metadata": {},
     "output_type": "execute_result"
    }
   ],
   "source": [
    "X_variance = sum((X_return - X_mean) ** 2) / (n - 1)\n",
    "X_std = np.sqrt(X_variance)\n",
    "X_std"
   ]
  },
  {
   "cell_type": "code",
   "execution_count": 13,
   "id": "b2eb03ff",
   "metadata": {},
   "outputs": [
    {
     "data": {
      "text/plain": [
       "0.9142273018413691"
      ]
     },
     "execution_count": 13,
     "metadata": {},
     "output_type": "execute_result"
    }
   ],
   "source": [
    "correlation_X_Y = cov_X_Y / (X_std * Y_std)\n",
    "correlation_X_Y"
   ]
  },
  {
   "cell_type": "code",
   "execution_count": 14,
   "id": "6d5e425f",
   "metadata": {},
   "outputs": [
    {
     "data": {
      "text/plain": [
       "3.6071699891346896"
      ]
     },
     "execution_count": 14,
     "metadata": {},
     "output_type": "execute_result"
    }
   ],
   "source": [
    "CV_X = X_std / X_mean #coefficient of variation\n",
    "CV_X"
   ]
  },
  {
   "cell_type": "code",
   "execution_count": 15,
   "id": "a93a8fc3",
   "metadata": {},
   "outputs": [
    {
     "data": {
      "text/plain": [
       "2.928958991235529"
      ]
     },
     "execution_count": 15,
     "metadata": {},
     "output_type": "execute_result"
    }
   ],
   "source": [
    "CV_Y = Y_std / Y_mean \n",
    "CV_Y"
   ]
  },
  {
   "cell_type": "code",
   "execution_count": 16,
   "id": "95a80896",
   "metadata": {},
   "outputs": [
    {
     "data": {
      "text/plain": [
       "0.0030608599889158567"
      ]
     },
     "execution_count": 16,
     "metadata": {},
     "output_type": "execute_result"
    }
   ],
   "source": [
    "SE_X = X_std / np.sqrt(n) #standar error\n",
    "SE_X"
   ]
  },
  {
   "cell_type": "code",
   "execution_count": 17,
   "id": "b90222d7",
   "metadata": {},
   "outputs": [
    {
     "data": {
      "text/plain": [
       "0.0036909551682263926"
      ]
     },
     "execution_count": 17,
     "metadata": {},
     "output_type": "execute_result"
    }
   ],
   "source": [
    "SE_Y = Y_std / np.sqrt(n)\n",
    "SE_Y"
   ]
  },
  {
   "cell_type": "code",
   "execution_count": 18,
   "id": "113708e3",
   "metadata": {},
   "outputs": [
    {
     "data": {
      "text/html": [
       "<table class=\"simpletable\">\n",
       "<caption>OLS Regression Results</caption>\n",
       "<tr>\n",
       "  <th>Dep. Variable:</th>            <td>y</td>        <th>  R-squared:         </th> <td>   0.836</td>\n",
       "</tr>\n",
       "<tr>\n",
       "  <th>Model:</th>                   <td>OLS</td>       <th>  Adj. R-squared:    </th> <td>   0.834</td>\n",
       "</tr>\n",
       "<tr>\n",
       "  <th>Method:</th>             <td>Least Squares</td>  <th>  F-statistic:       </th> <td>   590.5</td>\n",
       "</tr>\n",
       "<tr>\n",
       "  <th>Date:</th>             <td>Tue, 18 Oct 2022</td> <th>  Prob (F-statistic):</th> <td>2.49e-47</td>\n",
       "</tr>\n",
       "<tr>\n",
       "  <th>Time:</th>                 <td>19:45:31</td>     <th>  Log-Likelihood:    </th> <td>  319.22</td>\n",
       "</tr>\n",
       "<tr>\n",
       "  <th>No. Observations:</th>      <td>   118</td>      <th>  AIC:               </th> <td>  -634.4</td>\n",
       "</tr>\n",
       "<tr>\n",
       "  <th>Df Residuals:</th>          <td>   116</td>      <th>  BIC:               </th> <td>  -628.9</td>\n",
       "</tr>\n",
       "<tr>\n",
       "  <th>Df Model:</th>              <td>     1</td>      <th>                     </th>     <td> </td>   \n",
       "</tr>\n",
       "<tr>\n",
       "  <th>Covariance Type:</th>      <td>nonrobust</td>    <th>                     </th>     <td> </td>   \n",
       "</tr>\n",
       "</table>\n",
       "<table class=\"simpletable\">\n",
       "<tr>\n",
       "    <td></td>       <th>coef</th>     <th>std err</th>      <th>t</th>      <th>P>|t|</th>  <th>[0.025</th>    <th>0.975]</th>  \n",
       "</tr>\n",
       "<tr>\n",
       "  <th>const</th> <td>    0.0035</td> <td>    0.002</td> <td>    2.262</td> <td> 0.026</td> <td>    0.000</td> <td>    0.007</td>\n",
       "</tr>\n",
       "<tr>\n",
       "  <th>x1</th>    <td>    1.1024</td> <td>    0.045</td> <td>   24.300</td> <td> 0.000</td> <td>    1.013</td> <td>    1.192</td>\n",
       "</tr>\n",
       "</table>\n",
       "<table class=\"simpletable\">\n",
       "<tr>\n",
       "  <th>Omnibus:</th>       <td> 3.828</td> <th>  Durbin-Watson:     </th> <td>   1.540</td>\n",
       "</tr>\n",
       "<tr>\n",
       "  <th>Prob(Omnibus):</th> <td> 0.147</td> <th>  Jarque-Bera (JB):  </th> <td>   3.514</td>\n",
       "</tr>\n",
       "<tr>\n",
       "  <th>Skew:</th>          <td>-0.259</td> <th>  Prob(JB):          </th> <td>   0.173</td>\n",
       "</tr>\n",
       "<tr>\n",
       "  <th>Kurtosis:</th>      <td> 3.668</td> <th>  Cond. No.          </th> <td>    30.2</td>\n",
       "</tr>\n",
       "</table><br/><br/>Notes:<br/>[1] Standard Errors assume that the covariance matrix of the errors is correctly specified."
      ],
      "text/plain": [
       "<class 'statsmodels.iolib.summary.Summary'>\n",
       "\"\"\"\n",
       "                            OLS Regression Results                            \n",
       "==============================================================================\n",
       "Dep. Variable:                      y   R-squared:                       0.836\n",
       "Model:                            OLS   Adj. R-squared:                  0.834\n",
       "Method:                 Least Squares   F-statistic:                     590.5\n",
       "Date:                Tue, 18 Oct 2022   Prob (F-statistic):           2.49e-47\n",
       "Time:                        19:45:31   Log-Likelihood:                 319.22\n",
       "No. Observations:                 118   AIC:                            -634.4\n",
       "Df Residuals:                     116   BIC:                            -628.9\n",
       "Df Model:                           1                                         \n",
       "Covariance Type:            nonrobust                                         \n",
       "==============================================================================\n",
       "                 coef    std err          t      P>|t|      [0.025      0.975]\n",
       "------------------------------------------------------------------------------\n",
       "const          0.0035      0.002      2.262      0.026       0.000       0.007\n",
       "x1             1.1024      0.045     24.300      0.000       1.013       1.192\n",
       "==============================================================================\n",
       "Omnibus:                        3.828   Durbin-Watson:                   1.540\n",
       "Prob(Omnibus):                  0.147   Jarque-Bera (JB):                3.514\n",
       "Skew:                          -0.259   Prob(JB):                        0.173\n",
       "Kurtosis:                       3.668   Cond. No.                         30.2\n",
       "==============================================================================\n",
       "\n",
       "Notes:\n",
       "[1] Standard Errors assume that the covariance matrix of the errors is correctly specified.\n",
       "\"\"\""
      ]
     },
     "execution_count": 18,
     "metadata": {},
     "output_type": "execute_result"
    }
   ],
   "source": [
    "X_and_constant = sm.add_constant(X_return)\n",
    "results = sm.OLS(Y_return,X_and_constant).fit()\n",
    "results.summary()"
   ]
  },
  {
   "cell_type": "code",
   "execution_count": 19,
   "id": "f1aa75c8",
   "metadata": {
    "scrolled": true
   },
   "outputs": [
    {
     "data": {
      "image/png": "[encoded data removed]",
      "text/plain": [
       "<Figure size 432x288 with 1 Axes>"
      ]
     },
     "metadata": {},
     "output_type": "display_data"
    }
   ],
   "source": [
    "plt.scatter(X_return,Y_return)\n",
    "yhat = 1.1024*X_return + 0.0035\n",
    "fig = plt.plot(X_return,yhat, lw=4, c='orange', label = 'regression line' )\n",
    "plt.xlabel('SP500%',fontsize=20)\n",
    "plt.ylabel('NASDAQ100%',fontsize=20)\n",
    "plt.show()"
   ]
  },
  {
   "cell_type": "code",
   "execution_count": 20,
   "id": "89b7de62",
   "metadata": {},
   "outputs": [
    {
     "data": {
      "text/plain": [
       "1      2012-12-01\n",
       "2      2013-01-01\n",
       "3      2013-02-01\n",
       "4      2013-03-01\n",
       "5      2013-04-01\n",
       "          ...    \n",
       "114    2022-05-01\n",
       "115    2022-06-01\n",
       "116    2022-07-01\n",
       "117    2022-08-01\n",
       "118    2022-09-01\n",
       "Name: DATE, Length: 118, dtype: object"
      ]
     },
     "execution_count": 20,
     "metadata": {},
     "output_type": "execute_result"
    }
   ],
   "source": [
    "month = NASDAQ100['DATE']\n",
    "month = month.drop(index=0)\n",
    "month"
   ]
  },
  {
   "cell_type": "code",
   "execution_count": 21,
   "id": "90b97b84",
   "metadata": {},
   "outputs": [
    {
     "data": {
      "image/png": "[encoded data removed]",
      "text/plain": [
       "<Figure size 432x288 with 1 Axes>"
      ]
     },
     "metadata": {},
     "output_type": "display_data"
    }
   ],
   "source": [
    "plt.scatter(month,Y_return)\n",
    "plt.xlabel('Month',fontsize=20)\n",
    "plt.ylabel('NASDAQ100%',fontsize=20)\n",
    "plt.show()"
   ]
  },
  {
   "cell_type": "code",
   "execution_count": 22,
   "id": "4190ab8a",
   "metadata": {
    "scrolled": false
   },
   "outputs": [],
   "source": [
    "yhat = yhat.reshape(-1, 1)"
   ]
  },
  {
   "cell_type": "code",
   "execution_count": 23,
   "id": "d7bb1126",
   "metadata": {},
   "outputs": [],
   "source": [
    "investment = 100000\n",
    "investment_profit_S = (investment * np.sum(X_return))  \n",
    "investment_profit_N = (investment * np.sum(Y_return)) "
   ]
  },
  {
   "cell_type": "code",
   "execution_count": 24,
   "id": "a13abf51",
   "metadata": {},
   "outputs": [
    {
     "data": {
      "text/plain": [
       "108767.68026838276"
      ]
     },
     "execution_count": 24,
     "metadata": {},
     "output_type": "execute_result"
    }
   ],
   "source": [
    "investment_profit_S"
   ]
  },
  {
   "cell_type": "code",
   "execution_count": 25,
   "id": "505c6fbc",
   "metadata": {
    "scrolled": true
   },
   "outputs": [
    {
     "data": {
      "text/plain": [
       "161528.25075403924"
      ]
     },
     "execution_count": 25,
     "metadata": {},
     "output_type": "execute_result"
    }
   ],
   "source": [
    "investment_profit_N"
   ]
  },
  {
   "cell_type": "code",
   "execution_count": 26,
   "id": "97dcb65c",
   "metadata": {},
   "outputs": [
    {
     "data": {
      "text/plain": [
       "0"
      ]
     },
     "execution_count": 26,
     "metadata": {},
     "output_type": "execute_result"
    }
   ],
   "source": [
    "n = len(yhat)\n",
    "portfolio = investment\n",
    "i = 0\n",
    "j = 0\n",
    "yhat_squared = yhat**2\n",
    "Y_return_squared = Y_return ** 2\n",
    "while i < n :\n",
    "    if yhat_squared[i] == Y_return_squared[i] :\n",
    "        j+=1\n",
    "    i+=1\n",
    "j"
   ]
  },
  {
   "cell_type": "code",
   "execution_count": 27,
   "id": "fc586f94",
   "metadata": {},
   "outputs": [],
   "source": [
    "#there is no y = y_hat"
   ]
  },
  {
   "cell_type": "code",
   "execution_count": 28,
   "id": "2545842d",
   "metadata": {},
   "outputs": [],
   "source": [
    "i = 0\n",
    "while i < n - 1 :\n",
    "    if yhat_squared[i] < Y_return_squared[i] :\n",
    "        n_of_S = portfolio / X[i+1]\n",
    "        n_of_N = 0\n",
    "    else :\n",
    "        n_of_N = portfolio / Y[i]\n",
    "        n_of_S = 0\n",
    "    portfolio = (n_of_S * X[i+2]) + (n_of_N * Y[i+2])\n",
    "    i+=1\n",
    "arbitrage_profit = portfolio - investment     "
   ]
  },
  {
   "cell_type": "code",
   "execution_count": 29,
   "id": "fad1820e",
   "metadata": {},
   "outputs": [],
   "source": [
    "#n-1 because X and Y have one row more than yhat"
   ]
  },
  {
   "cell_type": "code",
   "execution_count": 30,
   "id": "361fee26",
   "metadata": {},
   "outputs": [
    {
     "data": {
      "text/plain": [
       "array([349071.17654239])"
      ]
     },
     "execution_count": 30,
     "metadata": {},
     "output_type": "execute_result"
    }
   ],
   "source": [
    "arbitrage_profit"
   ]
  },
  {
   "cell_type": "code",
   "execution_count": 31,
   "id": "c16499f7",
   "metadata": {},
   "outputs": [],
   "source": [
    "# investment = 100000\n",
    "# portfolio = investment\n",
    "# i = 0\n",
    "# while i < n  :\n",
    "#     if yhat_squared[i] < Y_return_squared[i] :\n",
    "#         portfolio = portfolio + (portfolio * X_return[i])\n",
    "#     elif yhat_squared[i] > Y_return_squared[i] :\n",
    "#         portfolio = portfolio + (portfolio  * Y_return[i])\n",
    "#     i+=1 \n",
    "# portfolio\n",
    "#269653.79231794516"
   ]
  },
  {
   "cell_type": "code",
   "execution_count": 32,
   "id": "3bafd6c6",
   "metadata": {},
   "outputs": [],
   "source": [
    "list_of_tuples = list(zip(month, yhat, Y_return, X_return))\n",
    "df = pd.DataFrame(list_of_tuples,\n",
    "                  columns=['Month', 'Reg_y^', 'NASDAQ100%', 'SP500%'])"
   ]
  },
  {
   "cell_type": "code",
   "execution_count": 33,
   "id": "809eb1b3",
   "metadata": {},
   "outputs": [
    {
     "data": {
      "text/html": [
       "<div>\n",
       "<style scoped>\n",
       "    .dataframe tbody tr th:only-of-type {\n",
       "        vertical-align: middle;\n",
       "    }\n",
       "\n",
       "    .dataframe tbody tr th {\n",
       "        vertical-align: top;\n",
       "    }\n",
       "\n",
       "    .dataframe thead th {\n",
       "        text-align: right;\n",
       "    }\n",
       "</style>\n",
       "<table border=\"1\" class=\"dataframe\">\n",
       "  <thead>\n",
       "    <tr style=\"text-align: right;\">\n",
       "      <th></th>\n",
       "      <th>Month</th>\n",
       "      <th>Reg_y^</th>\n",
       "      <th>NASDAQ100%</th>\n",
       "      <th>SP500%</th>\n",
       "    </tr>\n",
       "  </thead>\n",
       "  <tbody>\n",
       "    <tr>\n",
       "      <th>0</th>\n",
       "      <td>2012-12-01</td>\n",
       "      <td>[0.0254554066756907]</td>\n",
       "      <td>0.016104</td>\n",
       "      <td>0.019916</td>\n",
       "    </tr>\n",
       "    <tr>\n",
       "      <th>1</th>\n",
       "      <td>2013-01-01</td>\n",
       "      <td>[0.048540306799296246]</td>\n",
       "      <td>0.029392</td>\n",
       "      <td>0.040857</td>\n",
       "    </tr>\n",
       "    <tr>\n",
       "      <th>2</th>\n",
       "      <td>2013-02-01</td>\n",
       "      <td>[0.027267013868984755]</td>\n",
       "      <td>0.004125</td>\n",
       "      <td>0.021559</td>\n",
       "    </tr>\n",
       "    <tr>\n",
       "      <th>3</th>\n",
       "      <td>2013-03-01</td>\n",
       "      <td>[0.031577286162138674]</td>\n",
       "      <td>0.017151</td>\n",
       "      <td>0.025469</td>\n",
       "    </tr>\n",
       "    <tr>\n",
       "      <th>4</th>\n",
       "      <td>2013-04-01</td>\n",
       "      <td>[0.017626828847374973]</td>\n",
       "      <td>0.008313</td>\n",
       "      <td>0.012815</td>\n",
       "    </tr>\n",
       "    <tr>\n",
       "      <th>...</th>\n",
       "      <td>...</td>\n",
       "      <td>...</td>\n",
       "      <td>...</td>\n",
       "      <td>...</td>\n",
       "    </tr>\n",
       "    <tr>\n",
       "      <th>113</th>\n",
       "      <td>2022-05-01</td>\n",
       "      <td>[-0.0845996968548693]</td>\n",
       "      <td>-0.113838</td>\n",
       "      <td>-0.079916</td>\n",
       "    </tr>\n",
       "    <tr>\n",
       "      <th>114</th>\n",
       "      <td>2022-06-01</td>\n",
       "      <td>[-0.035084200087781105]</td>\n",
       "      <td>-0.036877</td>\n",
       "      <td>-0.035000</td>\n",
       "    </tr>\n",
       "    <tr>\n",
       "      <th>115</th>\n",
       "      <td>2022-07-01</td>\n",
       "      <td>[0.007114257047202584]</td>\n",
       "      <td>0.018588</td>\n",
       "      <td>0.003279</td>\n",
       "    </tr>\n",
       "    <tr>\n",
       "      <th>116</th>\n",
       "      <td>2022-08-01</td>\n",
       "      <td>[0.07306240157465761]</td>\n",
       "      <td>0.078265</td>\n",
       "      <td>0.063101</td>\n",
       "    </tr>\n",
       "    <tr>\n",
       "      <th>117</th>\n",
       "      <td>2022-09-01</td>\n",
       "      <td>[-0.07815948733436075]</td>\n",
       "      <td>-0.095440</td>\n",
       "      <td>-0.074074</td>\n",
       "    </tr>\n",
       "  </tbody>\n",
       "</table>\n",
       "<p>118 rows × 4 columns</p>\n",
       "</div>"
      ],
      "text/plain": [
       "          Month                   Reg_y^  NASDAQ100%    SP500%\n",
       "0    2012-12-01     [0.0254554066756907]    0.016104  0.019916\n",
       "1    2013-01-01   [0.048540306799296246]    0.029392  0.040857\n",
       "2    2013-02-01   [0.027267013868984755]    0.004125  0.021559\n",
       "3    2013-03-01   [0.031577286162138674]    0.017151  0.025469\n",
       "4    2013-04-01   [0.017626828847374973]    0.008313  0.012815\n",
       "..          ...                      ...         ...       ...\n",
       "113  2022-05-01    [-0.0845996968548693]   -0.113838 -0.079916\n",
       "114  2022-06-01  [-0.035084200087781105]   -0.036877 -0.035000\n",
       "115  2022-07-01   [0.007114257047202584]    0.018588  0.003279\n",
       "116  2022-08-01    [0.07306240157465761]    0.078265  0.063101\n",
       "117  2022-09-01   [-0.07815948733436075]   -0.095440 -0.074074\n",
       "\n",
       "[118 rows x 4 columns]"
      ]
     },
     "execution_count": 33,
     "metadata": {},
     "output_type": "execute_result"
    }
   ],
   "source": [
    "df"
   ]
  },
  {
   "cell_type": "code",
   "execution_count": 34,
   "id": "95da7c51",
   "metadata": {},
   "outputs": [],
   "source": [
    "df.to_csv('SP_NASDAQ_arbitrage.csv')"
   ]
  },
  {
   "cell_type": "code",
   "execution_count": 35,
   "id": "2de5a8d7",
   "metadata": {},
   "outputs": [],
   "source": [
    "from sklearn.model_selection import train_test_split\n",
    "x_train, x_test, y_train, y_test = train_test_split(X_return, Y_return, test_size =0.2, random_state=42)"
   ]
  },
  {
   "cell_type": "code",
   "execution_count": 36,
   "id": "eea984b7",
   "metadata": {},
   "outputs": [
    {
     "data": {
      "text/plain": [
       "LinearRegression()"
      ]
     },
     "execution_count": 36,
     "metadata": {},
     "output_type": "execute_result"
    }
   ],
   "source": [
    "x_train = x_train.reshape(-1, 1)\n",
    "y_train = y_train.reshape(-1, 1)\n",
    "reg = LinearRegression()\n",
    "reg.fit(x_train, y_train)"
   ]
  },
  {
   "cell_type": "code",
   "execution_count": 37,
   "id": "3070a16f",
   "metadata": {},
   "outputs": [
    {
     "data": {
      "image/png": "[encoded data removed]",
      "text/plain": [
       "<Figure size 432x288 with 1 Axes>"
      ]
     },
     "metadata": {},
     "output_type": "display_data"
    }
   ],
   "source": [
    "y_hat = reg.predict(x_train)\n",
    "plt.scatter(y_train, y_hat)\n",
    "plt.xlabel('Targets (y_train)',size=18)\n",
    "plt.ylabel('Predictions (y_hat)',size=18)\n",
    "plt.show()"
   ]
  },
  {
   "cell_type": "code",
   "execution_count": 38,
   "id": "da4bf290",
   "metadata": {},
   "outputs": [
    {
     "data": {
      "text/plain": [
       "Text(0.5, 1.0, 'Residuals PDF')"
      ]
     },
     "execution_count": 38,
     "metadata": {},
     "output_type": "execute_result"
    },
    {
     "data": {
      "image/png": "[encoded data removed]",
      "text/plain": [
       "<Figure size 405.725x360 with 1 Axes>"
      ]
     },
     "metadata": {},
     "output_type": "display_data"
    }
   ],
   "source": [
    "sns.displot(y_train - y_hat)\n",
    "plt.title(\"Residuals PDF\", size=18)"
   ]
  },
  {
   "cell_type": "code",
   "execution_count": 39,
   "id": "54fb6ffc",
   "metadata": {},
   "outputs": [
    {
     "data": {
      "text/plain": [
       "0.8350973378023641"
      ]
     },
     "execution_count": 39,
     "metadata": {},
     "output_type": "execute_result"
    }
   ],
   "source": [
    "reg.score(x_train,y_train)"
   ]
  },
  {
   "cell_type": "code",
   "execution_count": 40,
   "id": "e679676d",
   "metadata": {},
   "outputs": [
    {
     "data": {
      "text/plain": [
       "array([0.00365004])"
      ]
     },
     "execution_count": 40,
     "metadata": {},
     "output_type": "execute_result"
    }
   ],
   "source": [
    "reg.intercept_"
   ]
  },
  {
   "cell_type": "code",
   "execution_count": 41,
   "id": "a04e0258",
   "metadata": {},
   "outputs": [
    {
     "data": {
      "text/plain": [
       "array([[1.06983249]])"
      ]
     },
     "execution_count": 41,
     "metadata": {},
     "output_type": "execute_result"
    }
   ],
   "source": [
    "reg.coef_"
   ]
  },
  {
   "cell_type": "code",
   "execution_count": 42,
   "id": "0396ade5",
   "metadata": {},
   "outputs": [],
   "source": [
    "x_test = x_test.reshape(-1, 1)\n",
    "y_test = y_test.reshape(-1, 1)\n",
    "y_hat_test = reg.predict(x_test)"
   ]
  },
  {
   "cell_type": "code",
   "execution_count": 43,
   "id": "87a42b60",
   "metadata": {},
   "outputs": [
    {
     "data": {
      "text/plain": [
       "0.8056375990512814"
      ]
     },
     "execution_count": 43,
     "metadata": {},
     "output_type": "execute_result"
    }
   ],
   "source": [
    "reg.score(x_test,y_test)"
   ]
  },
  {
   "cell_type": "code",
   "execution_count": 44,
   "id": "d0c472a6",
   "metadata": {},
   "outputs": [],
   "source": [
    "investment = 100000\n",
    "test_portfolio = investment\n",
    "k = len(x_test)\n",
    "n_of_S = 0\n",
    "n_of_N = 0\n",
    "i = 0\n",
    "y_hat_test_squared = y_hat_test ** 2\n",
    "y_test_return_squared = y_test ** 2\n",
    "while i < k - 1 :\n",
    "    if y_hat_test_squared[i] < y_test_return_squared[i] :\n",
    "        j = np.where(X_return == x_test[i])\n",
    "        n_of_S = test_portfolio / X[j]      \n",
    "        n_of_N = 0\n",
    "    else :\n",
    "        z = np.where(Y_return == y_test[i])\n",
    "        n_of_N = test_portfolio / Y[z]\n",
    "        n_of_S = 0\n",
    "    j = np.where(X_return == x_test[i+1])\n",
    "    z = np.where(Y_return == y_test[i+1])\n",
    "    test_portfolio = (n_of_S * X[j]) + (n_of_N * Y[z])\n",
    "    i+=1\n",
    "arbitrage_test_profit = test_portfolio - investment"
   ]
  },
  {
   "cell_type": "code",
   "execution_count": 45,
   "id": "7982ae8e",
   "metadata": {},
   "outputs": [
    {
     "data": {
      "text/plain": [
       "array([[106513.08093862]])"
      ]
     },
     "execution_count": 45,
     "metadata": {},
     "output_type": "execute_result"
    }
   ],
   "source": [
    "arbitrage_test_profit"
   ]
  },
  {
   "cell_type": "code",
   "execution_count": 46,
   "id": "a8ecbb1a",
   "metadata": {},
   "outputs": [],
   "source": [
    "investment_test_profit_S = (investment * np.sum(x_test))  \n",
    "investment_test_profit_N = (investment * np.sum(y_test)) "
   ]
  },
  {
   "cell_type": "code",
   "execution_count": 47,
   "id": "8c681cbb",
   "metadata": {},
   "outputs": [
    {
     "data": {
      "text/plain": [
       "49795.893302103155"
      ]
     },
     "execution_count": 47,
     "metadata": {},
     "output_type": "execute_result"
    }
   ],
   "source": [
    "investment_test_profit_S"
   ]
  },
  {
   "cell_type": "code",
   "execution_count": 48,
   "id": "9c5cc361",
   "metadata": {},
   "outputs": [
    {
     "data": {
      "text/plain": [
       "64127.90184764296"
      ]
     },
     "execution_count": 48,
     "metadata": {},
     "output_type": "execute_result"
    }
   ],
   "source": [
    "investment_test_profit_N"
   ]
  },
  {
   "cell_type": "code",
   "execution_count": 49,
   "id": "fce6ce7f",
   "metadata": {},
   "outputs": [],
   "source": [
    "# Proof that with linear regression we can outperform the stock market average"
   ]
  },
  {
   "cell_type": "code",
   "execution_count": 50,
   "id": "ccc918fb",
   "metadata": {},
   "outputs": [],
   "source": [
    "#are there any instances of yhat = y"
   ]
  },
  {
   "cell_type": "code",
   "execution_count": 51,
   "id": "21d92e98",
   "metadata": {},
   "outputs": [
    {
     "data": {
      "text/plain": [
       "array([[ 0.00545009],\n",
       "       [ 0.02667408],\n",
       "       [-0.00904648],\n",
       "       [ 0.0118421 ],\n",
       "       [ 0.00629237],\n",
       "       [ 0.00710798],\n",
       "       [-0.00995368],\n",
       "       [ 0.00827755],\n",
       "       [ 0.00355433],\n",
       "       [-0.00160255],\n",
       "       [ 0.01112275],\n",
       "       [-0.01209171],\n",
       "       [-0.01050151],\n",
       "       [ 0.01352142],\n",
       "       [-0.00229135],\n",
       "       [ 0.00937366],\n",
       "       [ 0.02892428],\n",
       "       [-0.00885327],\n",
       "       [ 0.00160066],\n",
       "       [-0.03807156],\n",
       "       [-0.01896488],\n",
       "       [-0.0058111 ],\n",
       "       [-0.01957977],\n",
       "       [ 0.02397192]])"
      ]
     },
     "execution_count": 51,
     "metadata": {},
     "output_type": "execute_result"
    }
   ],
   "source": [
    "test_residuals = y_test - y_hat_test\n",
    "test_residuals"
   ]
  },
  {
   "cell_type": "code",
   "execution_count": null,
   "id": "f24185ac",
   "metadata": {},
   "outputs": [],
   "source": []
  }
 ],
 "metadata": {
  "celltoolbar": "Slideshow",
  "kernelspec": {
   "display_name": "Python 3 (ipykernel)",
   "language": "python",
   "name": "python3"
  },
  "language_info": {
   "codemirror_mode": {
    "name": "ipython",
    "version": 3
   },
   "file_extension": ".py",
   "mimetype": "text/x-python",
   "name": "python",
   "nbconvert_exporter": "python",
   "pygments_lexer": "ipython3",
   "version": "3.9.7"
  }
 },
 "nbformat": 4,
 "nbformat_minor": 5
}
